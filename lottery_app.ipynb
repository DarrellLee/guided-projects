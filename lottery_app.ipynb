{
 "cells": [
  {
   "cell_type": "markdown",
   "metadata": {},
   "source": [
    "# Mobile App To Estimate Chances Of Winning The Lottery\n",
    "\n",
    "For this guided project, I must assume that a medical institution that treats and prevents gambling addiction, want to build a mobile app that help lottery addicts better estimate their chances of winning.\n",
    "\n",
    "There is a team of engineers that will build the final app, but they have asked my team to build a few functions that calculate probabilities of winning the lottery.\n",
    "\n",
    "They would like us to create functions that enable users to answer the following questions:\n",
    "\n",
    "- What is the probability of winning the big prize with a single ticket?\n",
    "\n",
    "- What is the probability of winning the big prize if we play 40 different tickets (or any other number)?\n",
    "\n",
    "- What is the probability of having at least five (or four, or three, or two) winning numbers on a single ticket?\n",
    "\n",
    "They've also asked that we consider historical data coming from the national 6/49 lottery game in Canada. The dataset has records of 3,665 drawings, dating from 1982 to 2018. You can get access to the dataset on kaggle [here](https://www.kaggle.com/datascienceai/lottery-dataset)\n",
    "\n",
    "**Please note:** This is a fictional scenario mean't for learning purposes only and in no way mean't to offer medical or financial advice. \n",
    "\n",
    "## Probability Functions\n",
    "\n",
    "Our task consist mostly of calculating probabilities, so we'll need tools to help solve probability problems. In the 6/49 lottery, six numbers are drawn at random from a set of 49 numbers ranging from 1 to 49. The draws are done without replacement.\n",
    "\n",
    "To calculate probabilities, we need to know how many different combinations we can get when choosing 6(5,4,3 or 2) numbers from a possible set of 49 numbers.\n",
    "\n",
    "To find the number of combinations when sampling without replacement where order dosen't matter, we'll use this formula:\n",
    "\n",
    "\\begin{equation}\n",
    "_nC_k = {n \\choose k} =  \\frac{n!}{k!(n-k)!}\n",
    "\\end{equation}\n",
    "\n",
    "We can see that we'll often need to calculate factorials, so we'll start by creating two core functions, one to calculate factorials and one to calculate combinations"
   ]
  },
  {
   "cell_type": "code",
   "execution_count": 1,
   "metadata": {},
   "outputs": [],
   "source": [
    "# factorial and combinations functions.\n",
    "\n",
    "def factorial(n):\n",
    "    final_product = 1\n",
    "    for i in range(n,0,-1):\n",
    "        final_product *=i\n",
    "    return final_product\n",
    "\n",
    "def combinations(n,k):\n",
    "    return factorial(n)/(factorial(k)*factorial(n-k))"
   ]
  },
  {
   "cell_type": "markdown",
   "metadata": {},
   "source": [
    "## What is the probability of winning the big prize with a single ticket?\n",
    "\n",
    "To win the big prize in the 6/49 lottery the player must match all six numbers on their ticket with the six numbers drawn from the set of 49 numbers.\n",
    "\n",
    "For the first version of our app we want players to be able to calculate the probability of winning the big prize with one ticket.\n",
    "\n",
    "We're told by engineering to be aware of the following details when we write the function:\n",
    "\n",
    "- Inside the app, the user inputs six different numbers from 1 to 49.\n",
    "- Under the hood, the six numbers will come as a Python list, which will serve as the single input to our function.\n",
    "- The engineering team wants the function to print the probability value in a friendly way — in a way that people without any probability training are able to understand.\n",
    "\n",
    "Let's write the function:"
   ]
  },
  {
   "cell_type": "code",
   "execution_count": 2,
   "metadata": {},
   "outputs": [
    {
     "data": {
      "text/plain": [
       "'You have 0.0000072% chance of winning the lotery with one ticket, which is 1 out of 13983816 chances.'"
      ]
     },
     "execution_count": 2,
     "metadata": {},
     "output_type": "execute_result"
    }
   ],
   "source": [
    "def one_ticket_probability(nums):\n",
    "    k = len(nums)\n",
    "    n = 49\n",
    "    C = combinations(n,k)\n",
    "    probability = 1/C * 100\n",
    "    return \"You have {:.7f}% chance of winning the lotery with one ticket, which is 1 out of {} chances.\".format(probability, int(C))\n",
    "\n",
    "\n",
    "# Test the function.\n",
    "test_nums = [3,8,11,27,34,41]\n",
    "one_ticket_probability(test_nums)"
   ]
  },
  {
   "cell_type": "markdown",
   "metadata": {},
   "source": [
    "## Compare Tickets With Historical Lottery Data\n",
    "\n",
    "The one_ticket_probability function above is based on theoretical probability, where we assume that every possible outcome (every combination of six numbers chosen from 49) has an equal chance of happening.\n",
    "\n",
    "However, players might also like to compare their tickets with historical lottery data. We can calculate empirical probabilities with the 6/49 lottery dataset we downloaded from kaggle\n",
    "\n",
    "We'll start by reading and exploring the dataset."
   ]
  },
  {
   "cell_type": "code",
   "execution_count": 3,
   "metadata": {},
   "outputs": [
    {
     "name": "stdout",
     "output_type": "stream",
     "text": [
      "Rows: 3665, Columns: 11\n",
      "\n",
      "\n",
      "Head\n",
      "\n",
      "\n",
      "   PRODUCT  DRAW NUMBER  SEQUENCE NUMBER  DRAW DATE  NUMBER DRAWN 1  \\\n",
      "0      649            1                0  6/12/1982               3   \n",
      "1      649            2                0  6/19/1982               8   \n",
      "2      649            3                0  6/26/1982               1   \n",
      "\n",
      "   NUMBER DRAWN 2  NUMBER DRAWN 3  NUMBER DRAWN 4  NUMBER DRAWN 5  \\\n",
      "0              11              12              14              41   \n",
      "1              33              36              37              39   \n",
      "2               6              23              24              27   \n",
      "\n",
      "   NUMBER DRAWN 6  BONUS NUMBER  \n",
      "0              43            13  \n",
      "1              41             9  \n",
      "2              39            34  \n",
      "\n",
      "\n",
      "Tail\n",
      "\n",
      "\n",
      "      PRODUCT  DRAW NUMBER  SEQUENCE NUMBER  DRAW DATE  NUMBER DRAWN 1  \\\n",
      "3662      649         3589                0  6/13/2018               6   \n",
      "3663      649         3590                0  6/16/2018               2   \n",
      "3664      649         3591                0  6/20/2018              14   \n",
      "\n",
      "      NUMBER DRAWN 2  NUMBER DRAWN 3  NUMBER DRAWN 4  NUMBER DRAWN 5  \\\n",
      "3662              22              24              31              32   \n",
      "3663              15              21              31              38   \n",
      "3664              24              31              35              37   \n",
      "\n",
      "      NUMBER DRAWN 6  BONUS NUMBER  \n",
      "3662              34            16  \n",
      "3663              49             8  \n",
      "3664              48            17  \n"
     ]
    }
   ],
   "source": [
    "# Read the 6/49 dataset into a pandas dataframe\n",
    "\n",
    "import pandas as pd\n",
    "\n",
    "df_649 = pd.read_csv('649.csv')\n",
    "\n",
    "print(\"Rows: {}, Columns: {}\".format(df_649.shape[0], df_649.shape[1]))\n",
    "print(\"\\n\")\n",
    "print(\"Head\")\n",
    "print(\"\\n\")\n",
    "print(df_649.head(3))\n",
    "print(\"\\n\")\n",
    "print(\"Tail\")\n",
    "print(\"\\n\")\n",
    "print(df_649.tail(3))"
   ]
  },
  {
   "cell_type": "markdown",
   "metadata": {},
   "source": [
    "The columns labeled NUMBER DRAWN 1, NUMBER DRAWN 2... NUMBER DRAWN 6 are the six winning numbers drawn on each draw, and are the numbers of interest to us.\n",
    "\n",
    "Once again the engineering team has asked we be aware of the following details when creating our function:\n",
    "\n",
    "- Inside the app, the user inputs six different numbers from 1 to 49.\n",
    "- Under the hood, the six numbers will come as a Python list and serve as an input to our function.\n",
    "- The engineering team wants us to write a function that prints:\n",
    " - the number of times the combination selected occurred in the  -  Canada data set; and\n",
    " - the probability of winning the big prize in the next drawing with that combination.\n",
    "\n",
    "Before creating a function to check historical occurences, we'll write a function that extracts the six winning numbers from each row in our dataset."
   ]
  },
  {
   "cell_type": "code",
   "execution_count": 4,
   "metadata": {},
   "outputs": [
    {
     "data": {
      "text/plain": [
       "{3, 11, 12, 14, 41, 43}"
      ]
     },
     "execution_count": 4,
     "metadata": {},
     "output_type": "execute_result"
    }
   ],
   "source": [
    "# Function to extract the 6 winning numbers from a row\n",
    "# in the pandas dataframe and return as a set.\n",
    "\n",
    "def extract_numbers(row):\n",
    "    return set(row[4:10].values) \n",
    "\n",
    "# Test the function on the first row:\n",
    "extract_numbers(df_649.iloc[0])"
   ]
  },
  {
   "cell_type": "code",
   "execution_count": 5,
   "metadata": {},
   "outputs": [
    {
     "data": {
      "text/plain": [
       "0    {3, 41, 11, 12, 43, 14}\n",
       "1    {33, 36, 37, 39, 8, 41}\n",
       "2     {1, 6, 39, 23, 24, 27}\n",
       "3     {3, 9, 10, 43, 13, 20}\n",
       "4    {34, 5, 14, 47, 21, 31}\n",
       "dtype: object"
      ]
     },
     "execution_count": 5,
     "metadata": {},
     "output_type": "execute_result"
    }
   ],
   "source": [
    "# Apply the extract_numbers function to all the rows in the dataset\n",
    "# And save the sets of numbers as a pandas series.\n",
    "\n",
    "extracted_numbers = df_649.apply(extract_numbers, axis=1)\n",
    "\n",
    "# Display the first five rows:\n",
    "extracted_numbers.head()"
   ]
  },
  {
   "cell_type": "markdown",
   "metadata": {},
   "source": [
    "We can now write a function to check historical occurences, following the guidelines provided by the engineers above."
   ]
  },
  {
   "cell_type": "code",
   "execution_count": 6,
   "metadata": {},
   "outputs": [
    {
     "name": "stdout",
     "output_type": "stream",
     "text": [
      "Your numbers matched previous winning numbers 1 times.\n",
      "Although your numbers matched 1 times in passed draws, the probability\n",
      "of winning the big prize in the next draw with these numbers is 0.0000072%\n"
     ]
    }
   ],
   "source": [
    "# The functions takes as input a list of 6 numbers that a player choose,\n",
    "# and a series of past winning numbers, check  and print how many times\n",
    "# the players numbers have occured and the probability of winning in the\n",
    "# next draw.\n",
    "\n",
    "def check_historical_occurence(nums, winning_nums):\n",
    "    set_nums = set(nums)\n",
    "    matching_nums = winning_nums == set_nums\n",
    "    wins = winning_nums[matching_nums].shape[0]\n",
    "    return print('''Your numbers matched previous winning numbers {0} times.\\nAlthough your numbers matched {0} times in passed draws, the probability\\nof winning the big prize in the next draw with these numbers is 0.0000072%'''.format(wins))\n",
    "\n",
    "# list of 6 test numbers\n",
    "nums_test = [1,6,39,23,24,27]\n",
    "\n",
    "# Test the function using the test numbers and the previous winning numbers.\n",
    "check_historical_occurence(nums_test, extracted_numbers)"
   ]
  },
  {
   "cell_type": "markdown",
   "metadata": {},
   "source": [
    "## What is the probability of winning the big prize if we play 40 different tickets (or any other number)?\n",
    "\n",
    "Lottery addicts often play more than one ticket on a single draw, believing they will significantly increase their chances of winning.\n",
    "\n",
    "So we'll now code a function that calculates the chances of winning with any number of different tickets.\n",
    "\n",
    "Engineering has provided the following guidlines:\n",
    "\n",
    "- The user will input the number of different tickets they want to play (without inputting the specific combinations they intend to play).\n",
    "- Our function will see an integer between 1 and 13,983,816 (the maximum number of different tickets).\n",
    "- The function should print information about the probability of winning the big prize depending on the number of different tickets played.\n",
    "\n",
    "Let's write the function"
   ]
  },
  {
   "cell_type": "code",
   "execution_count": 7,
   "metadata": {},
   "outputs": [
    {
     "name": "stdout",
     "output_type": "stream",
     "text": [
      "You have 0.0000072% chance of winning with 1 tickets, \n",
      "that is 1 out of 13983816 chance to win\n",
      "\n",
      "\n",
      "You have 0.0000715% chance of winning with 10 tickets, \n",
      "that is 1 out of 1398382 chance to win\n",
      "\n",
      "\n",
      "You have 0.0007151% chance of winning with 100 tickets, \n",
      "that is 1 out of 139838 chance to win\n",
      "\n",
      "\n",
      "You have 0.0715112% chance of winning with 10000 tickets, \n",
      "that is 1 out of 1398 chance to win\n",
      "\n",
      "\n",
      "You have 7.1511238% chance of winning with 1000000 tickets, \n",
      "that is 1 out of 14 chance to win\n",
      "\n",
      "\n",
      "You have 50.0000000% chance of winning with 6991908 tickets, \n",
      "that is 1 out of 2 chance to win\n",
      "\n",
      "\n",
      "You have 100.0000000% chance of winning with 13983816 tickets, \n",
      "that is 1 out of 1 chance to win\n",
      "\n",
      "\n"
     ]
    }
   ],
   "source": [
    "# User inputs the numbers of tickets they wish to play.\n",
    "\n",
    "def multi_ticket_probability(num_tickets):\n",
    "    outcomes = combinations(49, 6)\n",
    "    probability = num_tickets/outcomes\n",
    "    percentage = probability * 100\n",
    "    outcomes_simplified = round(outcomes / num_tickets)\n",
    "    return \"\"\"You have {:.7f}% chance of winning with {} tickets, \n",
    "that is 1 out of {} chance to win\"\"\".format(percentage, num_tickets, outcomes_simplified)\n",
    "\n",
    "# list of different number of tickets to test.\n",
    "num_tickets = [1, 10, 100, 10000, 1000000, 6991908, 13983816]\n",
    "\n",
    "for i in num_tickets:\n",
    "    chances = multi_ticket_probability(i)\n",
    "    print(chances)\n",
    "    print(\"\\n\")"
   ]
  },
  {
   "cell_type": "markdown",
   "metadata": {},
   "source": [
    "## What is the probability of having at least five (or four, or three, or two) winning numbers on a single ticket?\n",
    "\n",
    "In most 6/49 lotteries you can win smaller prizes if you match two, three, four of five numbers.\n",
    "\n",
    "So our final function will calculate the probabilities of winning a smaller prize.\n",
    "\n",
    "Engeneering has told us to be aware of the following details:\n",
    "\n",
    "- Inside the app, the user inputs:\n",
    "  - six different numbers from 1 to 49; and\n",
    "  - an integer between 2 and 5 that represents the number of winning numbers expected\n",
    "- Our function prints information about the probability of having the inputted number of winning numbers.\n",
    "\n",
    "To calculate the probabilities, we tell the engineering team that the specific combination on the ticket is irrelevant behind the scenes, and we only need the integer between 2 and 5 representing the number of winning numbers expected.\n",
    "\n",
    "Let's code the function"
   ]
  },
  {
   "cell_type": "code",
   "execution_count": 9,
   "metadata": {},
   "outputs": [
    {
     "name": "stdout",
     "output_type": "stream",
     "text": [
      "Your chance of getting 2 numbers is \n",
      "13.2378029%, which is 1 out of 8 chances.\n",
      "\n",
      "\n",
      "Your chance of getting 3 numbers is \n",
      "1.7650404%, which is 1 out of 57 chances.\n",
      "\n",
      "\n",
      "Your chance of getting 4 numbers is \n",
      "0.0968620%, which is 1 out of 1032 chances.\n",
      "\n",
      "\n",
      "Your chance of getting 5 numbers is \n",
      "0.0018450%, which is 1 out of 54201 chances.\n",
      "\n",
      "\n"
     ]
    }
   ],
   "source": [
    "# Function returns the probability of matching exactly 2,3,4,or 5 numbers\n",
    "# no more no less.\n",
    "\n",
    "def probability_less_6(num):\n",
    "    # number of combination we can form when choosing 2,3,4,or 5 from 6.\n",
    "    num_outcomes = combinations(6,num)\n",
    "    remaining_outcomes = combinations(43,6-num)\n",
    "    sucessful_outcomes = num_outcomes * remaining_outcomes\n",
    "    total_outcomes = combinations(49,6)\n",
    "    probability = sucessful_outcomes/total_outcomes * 100\n",
    "    simplified_outcomes = total_outcomes/ sucessful_outcomes\n",
    "    return '''Your chance of getting {} numbers is \n",
    "{:.7f}%, which is 1 out of {} chances.'''.format(num,probability,int(round(simplified_outcomes)))\n",
    "\n",
    "test_nums = [2,3,4,5]\n",
    "\n",
    "for i in test_nums:\n",
    "    chances = probability_less_6(i)\n",
    "    print(chances)\n",
    "    print(\"\\n\")"
   ]
  }
 ],
 "metadata": {
  "kernelspec": {
   "display_name": "Python 3",
   "language": "python",
   "name": "python3"
  },
  "language_info": {
   "codemirror_mode": {
    "name": "ipython",
    "version": 3
   },
   "file_extension": ".py",
   "mimetype": "text/x-python",
   "name": "python",
   "nbconvert_exporter": "python",
   "pygments_lexer": "ipython3",
   "version": "3.8.3"
  }
 },
 "nbformat": 4,
 "nbformat_minor": 4
}
