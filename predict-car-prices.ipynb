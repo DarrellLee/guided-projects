{
 "cells": [
  {
   "cell_type": "markdown",
   "metadata": {},
   "source": [
    "## Predicting Car Prices\n",
    "\n",
    "In this project we'll practice the machine learning workflow to predict a car's market price using it attributes, with the k-nearest neighbors algorithm.\n",
    "\n",
    "You can download the dataset [here](https://archive.ics.uci.edu/ml/machine-learning-databases/autos/imports-85.data) and read more about it [here](https://archive.ics.uci.edu/ml/datasets/automobile).\n",
    "\n",
    "First I'll read in and view the data"
   ]
  },
  {
   "cell_type": "code",
   "execution_count": 1,
   "metadata": {},
   "outputs": [
    {
     "data": {
      "text/html": [
       "<div>\n",
       "<style scoped>\n",
       "    .dataframe tbody tr th:only-of-type {\n",
       "        vertical-align: middle;\n",
       "    }\n",
       "\n",
       "    .dataframe tbody tr th {\n",
       "        vertical-align: top;\n",
       "    }\n",
       "\n",
       "    .dataframe thead th {\n",
       "        text-align: right;\n",
       "    }\n",
       "</style>\n",
       "<table border=\"1\" class=\"dataframe\">\n",
       "  <thead>\n",
       "    <tr style=\"text-align: right;\">\n",
       "      <th></th>\n",
       "      <th>symboling</th>\n",
       "      <th>normalized-losses</th>\n",
       "      <th>make</th>\n",
       "      <th>fuel-type</th>\n",
       "      <th>aspiration</th>\n",
       "      <th>num-of-doors</th>\n",
       "      <th>body-style</th>\n",
       "      <th>drive-wheels</th>\n",
       "      <th>engine-location</th>\n",
       "      <th>wheel-base</th>\n",
       "      <th>length</th>\n",
       "      <th>width</th>\n",
       "      <th>height</th>\n",
       "      <th>curb-weight</th>\n",
       "      <th>engine-type</th>\n",
       "      <th>num-of-cylinders</th>\n",
       "      <th>engine-size</th>\n",
       "      <th>fuel-system</th>\n",
       "      <th>bore</th>\n",
       "      <th>stroke</th>\n",
       "      <th>compression-rate</th>\n",
       "      <th>horsepower</th>\n",
       "      <th>peak-rpm</th>\n",
       "      <th>city-mpg</th>\n",
       "      <th>highway-mpg</th>\n",
       "      <th>price</th>\n",
       "    </tr>\n",
       "  </thead>\n",
       "  <tbody>\n",
       "    <tr>\n",
       "      <th>0</th>\n",
       "      <td>3</td>\n",
       "      <td>?</td>\n",
       "      <td>alfa-romero</td>\n",
       "      <td>gas</td>\n",
       "      <td>std</td>\n",
       "      <td>two</td>\n",
       "      <td>convertible</td>\n",
       "      <td>rwd</td>\n",
       "      <td>front</td>\n",
       "      <td>88.6</td>\n",
       "      <td>168.8</td>\n",
       "      <td>64.1</td>\n",
       "      <td>48.8</td>\n",
       "      <td>2548</td>\n",
       "      <td>dohc</td>\n",
       "      <td>four</td>\n",
       "      <td>130</td>\n",
       "      <td>mpfi</td>\n",
       "      <td>3.47</td>\n",
       "      <td>2.68</td>\n",
       "      <td>9.0</td>\n",
       "      <td>111</td>\n",
       "      <td>5000</td>\n",
       "      <td>21</td>\n",
       "      <td>27</td>\n",
       "      <td>13495</td>\n",
       "    </tr>\n",
       "    <tr>\n",
       "      <th>1</th>\n",
       "      <td>3</td>\n",
       "      <td>?</td>\n",
       "      <td>alfa-romero</td>\n",
       "      <td>gas</td>\n",
       "      <td>std</td>\n",
       "      <td>two</td>\n",
       "      <td>convertible</td>\n",
       "      <td>rwd</td>\n",
       "      <td>front</td>\n",
       "      <td>88.6</td>\n",
       "      <td>168.8</td>\n",
       "      <td>64.1</td>\n",
       "      <td>48.8</td>\n",
       "      <td>2548</td>\n",
       "      <td>dohc</td>\n",
       "      <td>four</td>\n",
       "      <td>130</td>\n",
       "      <td>mpfi</td>\n",
       "      <td>3.47</td>\n",
       "      <td>2.68</td>\n",
       "      <td>9.0</td>\n",
       "      <td>111</td>\n",
       "      <td>5000</td>\n",
       "      <td>21</td>\n",
       "      <td>27</td>\n",
       "      <td>16500</td>\n",
       "    </tr>\n",
       "    <tr>\n",
       "      <th>2</th>\n",
       "      <td>1</td>\n",
       "      <td>?</td>\n",
       "      <td>alfa-romero</td>\n",
       "      <td>gas</td>\n",
       "      <td>std</td>\n",
       "      <td>two</td>\n",
       "      <td>hatchback</td>\n",
       "      <td>rwd</td>\n",
       "      <td>front</td>\n",
       "      <td>94.5</td>\n",
       "      <td>171.2</td>\n",
       "      <td>65.5</td>\n",
       "      <td>52.4</td>\n",
       "      <td>2823</td>\n",
       "      <td>ohcv</td>\n",
       "      <td>six</td>\n",
       "      <td>152</td>\n",
       "      <td>mpfi</td>\n",
       "      <td>2.68</td>\n",
       "      <td>3.47</td>\n",
       "      <td>9.0</td>\n",
       "      <td>154</td>\n",
       "      <td>5000</td>\n",
       "      <td>19</td>\n",
       "      <td>26</td>\n",
       "      <td>16500</td>\n",
       "    </tr>\n",
       "  </tbody>\n",
       "</table>\n",
       "</div>"
      ],
      "text/plain": [
       "   symboling normalized-losses         make fuel-type aspiration num-of-doors  \\\n",
       "0          3                 ?  alfa-romero       gas        std          two   \n",
       "1          3                 ?  alfa-romero       gas        std          two   \n",
       "2          1                 ?  alfa-romero       gas        std          two   \n",
       "\n",
       "    body-style drive-wheels engine-location  wheel-base  length  width  \\\n",
       "0  convertible          rwd           front        88.6   168.8   64.1   \n",
       "1  convertible          rwd           front        88.6   168.8   64.1   \n",
       "2    hatchback          rwd           front        94.5   171.2   65.5   \n",
       "\n",
       "   height  curb-weight engine-type num-of-cylinders  engine-size fuel-system  \\\n",
       "0    48.8         2548        dohc             four          130        mpfi   \n",
       "1    48.8         2548        dohc             four          130        mpfi   \n",
       "2    52.4         2823        ohcv              six          152        mpfi   \n",
       "\n",
       "   bore stroke  compression-rate horsepower peak-rpm  city-mpg  highway-mpg  \\\n",
       "0  3.47   2.68               9.0        111     5000        21           27   \n",
       "1  3.47   2.68               9.0        111     5000        21           27   \n",
       "2  2.68   3.47               9.0        154     5000        19           26   \n",
       "\n",
       "   price  \n",
       "0  13495  \n",
       "1  16500  \n",
       "2  16500  "
      ]
     },
     "execution_count": 1,
     "metadata": {},
     "output_type": "execute_result"
    }
   ],
   "source": [
    "# Import libraries\n",
    "import pandas as pd\n",
    "import numpy as np\n",
    "\n",
    "# Display all the columns\n",
    "pd.options.display.max_columns = 999\n",
    "\n",
    "# Column names to use, because they are missing.\n",
    "cols = ['symboling', 'normalized-losses', 'make', 'fuel-type', 'aspiration', 'num-of-doors', 'body-style', \n",
    "       'drive-wheels', 'engine-location', 'wheel-base', 'length', 'width', 'height', 'curb-weight', 'engine-type', \n",
    "        'num-of-cylinders', 'engine-size', 'fuel-system', 'bore', 'stroke', 'compression-rate', 'horsepower', 'peak-rpm', 'city-mpg', 'highway-mpg', 'price']\n",
    "\n",
    "# Read data into pandas dataframe - specifying column names.\n",
    "cars = pd.read_csv('imports-85.data', names= cols)\n",
    "\n",
    "# Display first three rows\n",
    "cars.head(3)"
   ]
  },
  {
   "cell_type": "markdown",
   "metadata": {},
   "source": [
    "### Handling Missing Values\n",
    "\n",
    "First, we'll handle the missing values. Since k-nearest neighbours relies on distance measurements, missing values will cause us problems.\n",
    "\n",
    "Above, in the normalized-losses column we can see missing values represented with the string ```\"?\"```.\n",
    "\n",
    "Let's replace all missing values in the DataFrame with numpy.nan values."
   ]
  },
  {
   "cell_type": "code",
   "execution_count": 2,
   "metadata": {
    "scrolled": true
   },
   "outputs": [
    {
     "data": {
      "text/html": [
       "<div>\n",
       "<style scoped>\n",
       "    .dataframe tbody tr th:only-of-type {\n",
       "        vertical-align: middle;\n",
       "    }\n",
       "\n",
       "    .dataframe tbody tr th {\n",
       "        vertical-align: top;\n",
       "    }\n",
       "\n",
       "    .dataframe thead th {\n",
       "        text-align: right;\n",
       "    }\n",
       "</style>\n",
       "<table border=\"1\" class=\"dataframe\">\n",
       "  <thead>\n",
       "    <tr style=\"text-align: right;\">\n",
       "      <th></th>\n",
       "      <th>symboling</th>\n",
       "      <th>normalized-losses</th>\n",
       "      <th>make</th>\n",
       "      <th>fuel-type</th>\n",
       "      <th>aspiration</th>\n",
       "      <th>num-of-doors</th>\n",
       "      <th>body-style</th>\n",
       "      <th>drive-wheels</th>\n",
       "      <th>engine-location</th>\n",
       "      <th>wheel-base</th>\n",
       "      <th>length</th>\n",
       "      <th>width</th>\n",
       "      <th>height</th>\n",
       "      <th>curb-weight</th>\n",
       "      <th>engine-type</th>\n",
       "      <th>num-of-cylinders</th>\n",
       "      <th>engine-size</th>\n",
       "      <th>fuel-system</th>\n",
       "      <th>bore</th>\n",
       "      <th>stroke</th>\n",
       "      <th>compression-rate</th>\n",
       "      <th>horsepower</th>\n",
       "      <th>peak-rpm</th>\n",
       "      <th>city-mpg</th>\n",
       "      <th>highway-mpg</th>\n",
       "      <th>price</th>\n",
       "    </tr>\n",
       "  </thead>\n",
       "  <tbody>\n",
       "    <tr>\n",
       "      <th>0</th>\n",
       "      <td>3</td>\n",
       "      <td>NaN</td>\n",
       "      <td>alfa-romero</td>\n",
       "      <td>gas</td>\n",
       "      <td>std</td>\n",
       "      <td>two</td>\n",
       "      <td>convertible</td>\n",
       "      <td>rwd</td>\n",
       "      <td>front</td>\n",
       "      <td>88.6</td>\n",
       "      <td>168.8</td>\n",
       "      <td>64.1</td>\n",
       "      <td>48.8</td>\n",
       "      <td>2548</td>\n",
       "      <td>dohc</td>\n",
       "      <td>four</td>\n",
       "      <td>130</td>\n",
       "      <td>mpfi</td>\n",
       "      <td>3.47</td>\n",
       "      <td>2.68</td>\n",
       "      <td>9.0</td>\n",
       "      <td>111</td>\n",
       "      <td>5000</td>\n",
       "      <td>21</td>\n",
       "      <td>27</td>\n",
       "      <td>13495</td>\n",
       "    </tr>\n",
       "    <tr>\n",
       "      <th>1</th>\n",
       "      <td>3</td>\n",
       "      <td>NaN</td>\n",
       "      <td>alfa-romero</td>\n",
       "      <td>gas</td>\n",
       "      <td>std</td>\n",
       "      <td>two</td>\n",
       "      <td>convertible</td>\n",
       "      <td>rwd</td>\n",
       "      <td>front</td>\n",
       "      <td>88.6</td>\n",
       "      <td>168.8</td>\n",
       "      <td>64.1</td>\n",
       "      <td>48.8</td>\n",
       "      <td>2548</td>\n",
       "      <td>dohc</td>\n",
       "      <td>four</td>\n",
       "      <td>130</td>\n",
       "      <td>mpfi</td>\n",
       "      <td>3.47</td>\n",
       "      <td>2.68</td>\n",
       "      <td>9.0</td>\n",
       "      <td>111</td>\n",
       "      <td>5000</td>\n",
       "      <td>21</td>\n",
       "      <td>27</td>\n",
       "      <td>16500</td>\n",
       "    </tr>\n",
       "    <tr>\n",
       "      <th>2</th>\n",
       "      <td>1</td>\n",
       "      <td>NaN</td>\n",
       "      <td>alfa-romero</td>\n",
       "      <td>gas</td>\n",
       "      <td>std</td>\n",
       "      <td>two</td>\n",
       "      <td>hatchback</td>\n",
       "      <td>rwd</td>\n",
       "      <td>front</td>\n",
       "      <td>94.5</td>\n",
       "      <td>171.2</td>\n",
       "      <td>65.5</td>\n",
       "      <td>52.4</td>\n",
       "      <td>2823</td>\n",
       "      <td>ohcv</td>\n",
       "      <td>six</td>\n",
       "      <td>152</td>\n",
       "      <td>mpfi</td>\n",
       "      <td>2.68</td>\n",
       "      <td>3.47</td>\n",
       "      <td>9.0</td>\n",
       "      <td>154</td>\n",
       "      <td>5000</td>\n",
       "      <td>19</td>\n",
       "      <td>26</td>\n",
       "      <td>16500</td>\n",
       "    </tr>\n",
       "    <tr>\n",
       "      <th>3</th>\n",
       "      <td>2</td>\n",
       "      <td>164</td>\n",
       "      <td>audi</td>\n",
       "      <td>gas</td>\n",
       "      <td>std</td>\n",
       "      <td>four</td>\n",
       "      <td>sedan</td>\n",
       "      <td>fwd</td>\n",
       "      <td>front</td>\n",
       "      <td>99.8</td>\n",
       "      <td>176.6</td>\n",
       "      <td>66.2</td>\n",
       "      <td>54.3</td>\n",
       "      <td>2337</td>\n",
       "      <td>ohc</td>\n",
       "      <td>four</td>\n",
       "      <td>109</td>\n",
       "      <td>mpfi</td>\n",
       "      <td>3.19</td>\n",
       "      <td>3.40</td>\n",
       "      <td>10.0</td>\n",
       "      <td>102</td>\n",
       "      <td>5500</td>\n",
       "      <td>24</td>\n",
       "      <td>30</td>\n",
       "      <td>13950</td>\n",
       "    </tr>\n",
       "    <tr>\n",
       "      <th>4</th>\n",
       "      <td>2</td>\n",
       "      <td>164</td>\n",
       "      <td>audi</td>\n",
       "      <td>gas</td>\n",
       "      <td>std</td>\n",
       "      <td>four</td>\n",
       "      <td>sedan</td>\n",
       "      <td>4wd</td>\n",
       "      <td>front</td>\n",
       "      <td>99.4</td>\n",
       "      <td>176.6</td>\n",
       "      <td>66.4</td>\n",
       "      <td>54.3</td>\n",
       "      <td>2824</td>\n",
       "      <td>ohc</td>\n",
       "      <td>five</td>\n",
       "      <td>136</td>\n",
       "      <td>mpfi</td>\n",
       "      <td>3.19</td>\n",
       "      <td>3.40</td>\n",
       "      <td>8.0</td>\n",
       "      <td>115</td>\n",
       "      <td>5500</td>\n",
       "      <td>18</td>\n",
       "      <td>22</td>\n",
       "      <td>17450</td>\n",
       "    </tr>\n",
       "  </tbody>\n",
       "</table>\n",
       "</div>"
      ],
      "text/plain": [
       "   symboling normalized-losses         make fuel-type aspiration num-of-doors  \\\n",
       "0          3               NaN  alfa-romero       gas        std          two   \n",
       "1          3               NaN  alfa-romero       gas        std          two   \n",
       "2          1               NaN  alfa-romero       gas        std          two   \n",
       "3          2               164         audi       gas        std         four   \n",
       "4          2               164         audi       gas        std         four   \n",
       "\n",
       "    body-style drive-wheels engine-location  wheel-base  length  width  \\\n",
       "0  convertible          rwd           front        88.6   168.8   64.1   \n",
       "1  convertible          rwd           front        88.6   168.8   64.1   \n",
       "2    hatchback          rwd           front        94.5   171.2   65.5   \n",
       "3        sedan          fwd           front        99.8   176.6   66.2   \n",
       "4        sedan          4wd           front        99.4   176.6   66.4   \n",
       "\n",
       "   height  curb-weight engine-type num-of-cylinders  engine-size fuel-system  \\\n",
       "0    48.8         2548        dohc             four          130        mpfi   \n",
       "1    48.8         2548        dohc             four          130        mpfi   \n",
       "2    52.4         2823        ohcv              six          152        mpfi   \n",
       "3    54.3         2337         ohc             four          109        mpfi   \n",
       "4    54.3         2824         ohc             five          136        mpfi   \n",
       "\n",
       "   bore stroke  compression-rate horsepower peak-rpm  city-mpg  highway-mpg  \\\n",
       "0  3.47   2.68               9.0        111     5000        21           27   \n",
       "1  3.47   2.68               9.0        111     5000        21           27   \n",
       "2  2.68   3.47               9.0        154     5000        19           26   \n",
       "3  3.19   3.40              10.0        102     5500        24           30   \n",
       "4  3.19   3.40               8.0        115     5500        18           22   \n",
       "\n",
       "   price  \n",
       "0  13495  \n",
       "1  16500  \n",
       "2  16500  \n",
       "3  13950  \n",
       "4  17450  "
      ]
     },
     "execution_count": 2,
     "metadata": {},
     "output_type": "execute_result"
    }
   ],
   "source": [
    "cars = cars.replace('?', np.nan)\n",
    "cars.head()"
   ]
  },
  {
   "cell_type": "markdown",
   "metadata": {},
   "source": [
    "Because the string ```\"?\"``` was used to represent missing values, all columns with missing values were converted to the pandas object data type when it was read in."
   ]
  },
  {
   "cell_type": "code",
   "execution_count": 3,
   "metadata": {},
   "outputs": [
    {
     "data": {
      "text/plain": [
       "symboling              int64\n",
       "normalized-losses     object\n",
       "make                  object\n",
       "fuel-type             object\n",
       "aspiration            object\n",
       "num-of-doors          object\n",
       "body-style            object\n",
       "drive-wheels          object\n",
       "engine-location       object\n",
       "wheel-base           float64\n",
       "length               float64\n",
       "width                float64\n",
       "height               float64\n",
       "curb-weight            int64\n",
       "engine-type           object\n",
       "num-of-cylinders      object\n",
       "engine-size            int64\n",
       "fuel-system           object\n",
       "bore                  object\n",
       "stroke                object\n",
       "compression-rate     float64\n",
       "horsepower            object\n",
       "peak-rpm              object\n",
       "city-mpg               int64\n",
       "highway-mpg            int64\n",
       "price                 object\n",
       "dtype: object"
      ]
     },
     "execution_count": 3,
     "metadata": {},
     "output_type": "execute_result"
    }
   ],
   "source": [
    "cars.dtypes"
   ]
  },
  {
   "cell_type": "markdown",
   "metadata": {},
   "source": [
    "Let's fix this by converting all columns that should be numric to ```float```, and count the missing values."
   ]
  },
  {
   "cell_type": "code",
   "execution_count": 4,
   "metadata": {},
   "outputs": [
    {
     "data": {
      "text/plain": [
       "normalized-losses    41\n",
       "wheel-base            0\n",
       "length                0\n",
       "width                 0\n",
       "height                0\n",
       "curb-weight           0\n",
       "engine-size           0\n",
       "bore                  4\n",
       "stroke                4\n",
       "compression-rate      0\n",
       "horsepower            2\n",
       "peak-rpm              2\n",
       "city-mpg              0\n",
       "highway-mpg           0\n",
       "price                 4\n",
       "dtype: int64"
      ]
     },
     "execution_count": 4,
     "metadata": {},
     "output_type": "execute_result"
    }
   ],
   "source": [
    "# Select the continuous cols \n",
    "continuous_values_cols = ['normalized-losses', 'wheel-base', 'length', 'width', 'height', 'curb-weight', 'engine-size', 'bore', 'stroke', 'compression-rate', 'horsepower', 'peak-rpm', 'city-mpg', 'highway-mpg', 'price']\n",
    "numeric_cols = cars[continuous_values_cols]\n",
    "\n",
    "# Convert numeric columns to float type & count missing values.\n",
    "numeric_cols = numeric_cols.astype(\"float\")\n",
    "numeric_cols.isnull().sum()"
   ]
  },
  {
   "cell_type": "markdown",
   "metadata": {},
   "source": [
    "Next we'll delete all rows where price is missing. It makes sense to delete the rows as the price column is our target variable.\n",
    "\n",
    "For the rest of the columns, we'll replace the missing values with the mean of that column."
   ]
  },
  {
   "cell_type": "code",
   "execution_count": 5,
   "metadata": {},
   "outputs": [
    {
     "data": {
      "text/plain": [
       "normalized-losses    0\n",
       "wheel-base           0\n",
       "length               0\n",
       "width                0\n",
       "height               0\n",
       "curb-weight          0\n",
       "engine-size          0\n",
       "bore                 0\n",
       "stroke               0\n",
       "compression-rate     0\n",
       "horsepower           0\n",
       "peak-rpm             0\n",
       "city-mpg             0\n",
       "highway-mpg          0\n",
       "price                0\n",
       "dtype: int64"
      ]
     },
     "execution_count": 5,
     "metadata": {},
     "output_type": "execute_result"
    }
   ],
   "source": [
    "# Drop rows where price missing\n",
    "numeric_cols.dropna(subset=['price'], inplace=True)\n",
    "# Fill missing values with the mean\n",
    "numeric_cols.fillna(numeric_cols.mean(), inplace=True)\n",
    "# Count missing values\n",
    "numeric_cols.isnull().sum()"
   ]
  },
  {
   "cell_type": "markdown",
   "metadata": {},
   "source": [
    "### Rescale Data\n",
    "\n"
   ]
  },
  {
   "cell_type": "markdown",
   "metadata": {},
   "source": [
    "To avoid the alogritmn being biased towards certain features, by giving more weight to those with a bigger range' - well use [min-max scaling](https://en.wikipedia.org/wiki/Feature_scaling#Rescaling) to range all the columns between 0 and 1."
   ]
  },
  {
   "cell_type": "code",
   "execution_count": 6,
   "metadata": {},
   "outputs": [
    {
     "data": {
      "text/html": [
       "<div>\n",
       "<style scoped>\n",
       "    .dataframe tbody tr th:only-of-type {\n",
       "        vertical-align: middle;\n",
       "    }\n",
       "\n",
       "    .dataframe tbody tr th {\n",
       "        vertical-align: top;\n",
       "    }\n",
       "\n",
       "    .dataframe thead th {\n",
       "        text-align: right;\n",
       "    }\n",
       "</style>\n",
       "<table border=\"1\" class=\"dataframe\">\n",
       "  <thead>\n",
       "    <tr style=\"text-align: right;\">\n",
       "      <th></th>\n",
       "      <th>normalized-losses</th>\n",
       "      <th>wheel-base</th>\n",
       "      <th>length</th>\n",
       "      <th>width</th>\n",
       "      <th>height</th>\n",
       "      <th>curb-weight</th>\n",
       "      <th>engine-size</th>\n",
       "      <th>bore</th>\n",
       "      <th>stroke</th>\n",
       "      <th>compression-rate</th>\n",
       "      <th>horsepower</th>\n",
       "      <th>peak-rpm</th>\n",
       "      <th>city-mpg</th>\n",
       "      <th>highway-mpg</th>\n",
       "      <th>price</th>\n",
       "    </tr>\n",
       "  </thead>\n",
       "  <tbody>\n",
       "    <tr>\n",
       "      <th>0</th>\n",
       "      <td>0.298429</td>\n",
       "      <td>0.058309</td>\n",
       "      <td>0.413433</td>\n",
       "      <td>0.324786</td>\n",
       "      <td>0.083333</td>\n",
       "      <td>0.411171</td>\n",
       "      <td>0.260377</td>\n",
       "      <td>0.664286</td>\n",
       "      <td>0.290476</td>\n",
       "      <td>0.1250</td>\n",
       "      <td>0.294393</td>\n",
       "      <td>0.346939</td>\n",
       "      <td>0.222222</td>\n",
       "      <td>0.289474</td>\n",
       "      <td>13495.0</td>\n",
       "    </tr>\n",
       "    <tr>\n",
       "      <th>1</th>\n",
       "      <td>0.298429</td>\n",
       "      <td>0.058309</td>\n",
       "      <td>0.413433</td>\n",
       "      <td>0.324786</td>\n",
       "      <td>0.083333</td>\n",
       "      <td>0.411171</td>\n",
       "      <td>0.260377</td>\n",
       "      <td>0.664286</td>\n",
       "      <td>0.290476</td>\n",
       "      <td>0.1250</td>\n",
       "      <td>0.294393</td>\n",
       "      <td>0.346939</td>\n",
       "      <td>0.222222</td>\n",
       "      <td>0.289474</td>\n",
       "      <td>16500.0</td>\n",
       "    </tr>\n",
       "    <tr>\n",
       "      <th>2</th>\n",
       "      <td>0.298429</td>\n",
       "      <td>0.230321</td>\n",
       "      <td>0.449254</td>\n",
       "      <td>0.444444</td>\n",
       "      <td>0.383333</td>\n",
       "      <td>0.517843</td>\n",
       "      <td>0.343396</td>\n",
       "      <td>0.100000</td>\n",
       "      <td>0.666667</td>\n",
       "      <td>0.1250</td>\n",
       "      <td>0.495327</td>\n",
       "      <td>0.346939</td>\n",
       "      <td>0.166667</td>\n",
       "      <td>0.263158</td>\n",
       "      <td>16500.0</td>\n",
       "    </tr>\n",
       "    <tr>\n",
       "      <th>3</th>\n",
       "      <td>0.518325</td>\n",
       "      <td>0.384840</td>\n",
       "      <td>0.529851</td>\n",
       "      <td>0.504274</td>\n",
       "      <td>0.541667</td>\n",
       "      <td>0.329325</td>\n",
       "      <td>0.181132</td>\n",
       "      <td>0.464286</td>\n",
       "      <td>0.633333</td>\n",
       "      <td>0.1875</td>\n",
       "      <td>0.252336</td>\n",
       "      <td>0.551020</td>\n",
       "      <td>0.305556</td>\n",
       "      <td>0.368421</td>\n",
       "      <td>13950.0</td>\n",
       "    </tr>\n",
       "    <tr>\n",
       "      <th>4</th>\n",
       "      <td>0.518325</td>\n",
       "      <td>0.373178</td>\n",
       "      <td>0.529851</td>\n",
       "      <td>0.521368</td>\n",
       "      <td>0.541667</td>\n",
       "      <td>0.518231</td>\n",
       "      <td>0.283019</td>\n",
       "      <td>0.464286</td>\n",
       "      <td>0.633333</td>\n",
       "      <td>0.0625</td>\n",
       "      <td>0.313084</td>\n",
       "      <td>0.551020</td>\n",
       "      <td>0.138889</td>\n",
       "      <td>0.157895</td>\n",
       "      <td>17450.0</td>\n",
       "    </tr>\n",
       "  </tbody>\n",
       "</table>\n",
       "</div>"
      ],
      "text/plain": [
       "   normalized-losses  wheel-base    length     width    height  curb-weight  \\\n",
       "0           0.298429    0.058309  0.413433  0.324786  0.083333     0.411171   \n",
       "1           0.298429    0.058309  0.413433  0.324786  0.083333     0.411171   \n",
       "2           0.298429    0.230321  0.449254  0.444444  0.383333     0.517843   \n",
       "3           0.518325    0.384840  0.529851  0.504274  0.541667     0.329325   \n",
       "4           0.518325    0.373178  0.529851  0.521368  0.541667     0.518231   \n",
       "\n",
       "   engine-size      bore    stroke  compression-rate  horsepower  peak-rpm  \\\n",
       "0     0.260377  0.664286  0.290476            0.1250    0.294393  0.346939   \n",
       "1     0.260377  0.664286  0.290476            0.1250    0.294393  0.346939   \n",
       "2     0.343396  0.100000  0.666667            0.1250    0.495327  0.346939   \n",
       "3     0.181132  0.464286  0.633333            0.1875    0.252336  0.551020   \n",
       "4     0.283019  0.464286  0.633333            0.0625    0.313084  0.551020   \n",
       "\n",
       "   city-mpg  highway-mpg    price  \n",
       "0  0.222222     0.289474  13495.0  \n",
       "1  0.222222     0.289474  16500.0  \n",
       "2  0.166667     0.263158  16500.0  \n",
       "3  0.305556     0.368421  13950.0  \n",
       "4  0.138889     0.157895  17450.0  "
      ]
     },
     "execution_count": 6,
     "metadata": {},
     "output_type": "execute_result"
    }
   ],
   "source": [
    "# Isolate target varible\n",
    "price_col = numeric_cols['price']\n",
    "# Apply min-max scaling\n",
    "normalized_cars = (numeric_cols - numeric_cols.min()) / (numeric_cols.max() - numeric_cols.min())\n",
    "# reinstate price\n",
    "normalized_cars['price'] = price_col\n",
    "# View first five rows\n",
    "normalized_cars.head()"
   ]
  },
  {
   "cell_type": "markdown",
   "metadata": {},
   "source": [
    "### Univariate Model\n",
    "\n",
    "The first models will be simple univariate models. We will use the **KNeighborsRegressor class** from **sklearn**, and  use the Root Mean Squared Error (RMSE) to measure the models performances."
   ]
  },
  {
   "cell_type": "code",
   "execution_count": 7,
   "metadata": {},
   "outputs": [
    {
     "data": {
      "text/plain": [
       "engine-size          3238.462830\n",
       "horsepower           4037.037713\n",
       "curb-weight          4401.118255\n",
       "highway-mpg          4630.026799\n",
       "width                4704.482590\n",
       "city-mpg             4766.422505\n",
       "length               5427.200961\n",
       "wheel-base           5461.553998\n",
       "compression-rate     6610.812153\n",
       "bore                 6780.627785\n",
       "normalized-losses    7330.197653\n",
       "peak-rpm             7697.459696\n",
       "stroke               8006.529545\n",
       "height               8144.441043\n",
       "dtype: float64"
      ]
     },
     "execution_count": 7,
     "metadata": {},
     "output_type": "execute_result"
    }
   ],
   "source": [
    "from sklearn.neighbors import KNeighborsRegressor \n",
    "from sklearn.metrics import mean_squared_error\n",
    "\n",
    "def knn_train_test(train_col, target_col, df):\n",
    "    np.random.seed(1)\n",
    "    shuffled_index = np.random.permutation(df.index)\n",
    "    rand_df = df.reindex(shuffled_index)\n",
    "    \n",
    "    train_set = rand_df.iloc[0:int(len(df)/2)]\n",
    "    test_set = rand_df.iloc[int(len(df)/2):].copy()\n",
    "    knn = KNeighborsRegressor()\n",
    "    knn.fit(train_set[[train_col]], train_set[target_col])\n",
    "    predictions = knn.predict(test_set[[train_col]])\n",
    "    mse = mean_squared_error(test_set[target_col], predictions)\n",
    "    rmse = mse**(1/2)\n",
    "    return rmse\n",
    "\n",
    "rmse = {}\n",
    "# Training features\n",
    "train_cols = normalized_cars.columns.drop('price')\n",
    "\n",
    "# Train and test using each column.\n",
    "for col in train_cols:\n",
    "    rmses = knn_train_test(col,'price',normalized_cars)\n",
    "    rmse[col] = rmses\n",
    "    \n",
    "rmses = pd.Series(rmse)\n",
    "rmses.sort_values()"
   ]
  },
  {
   "cell_type": "markdown",
   "metadata": {},
   "source": [
    "The ```knn_train_test()``` function above, trained and tested univariate models using a k-value of 5 (the default) and different columns from ```normalized_cars```.\n",
    "\n",
    "The best model was the one that used ```engine-size``` with a RMSE value of ```3238.5```.\n",
    "\n",
    "Next, we'll update the function to take each column, train, and test a univariate model using the following k values (1, 3, 5, 7, and 9)."
   ]
  },
  {
   "cell_type": "code",
   "execution_count": 8,
   "metadata": {},
   "outputs": [
    {
     "data": {
      "text/plain": [
       "{'normalized-losses': {1: 7846.750605148984,\n",
       "  3: 7500.5698123109905,\n",
       "  5: 7330.197653434445,\n",
       "  7: 7756.421586234123,\n",
       "  9: 7688.096096891432},\n",
       " 'wheel-base': {1: 4493.734068810494,\n",
       "  3: 5120.161506064513,\n",
       "  5: 5461.553997873057,\n",
       "  7: 5448.1070513823315,\n",
       "  9: 5738.405685192312},\n",
       " 'length': {1: 4628.45550121557,\n",
       "  3: 5129.8358210721635,\n",
       "  5: 5427.2009608367125,\n",
       "  7: 5313.427720847974,\n",
       "  9: 5383.054514833446}}"
      ]
     },
     "execution_count": 8,
     "metadata": {},
     "output_type": "execute_result"
    }
   ],
   "source": [
    "def knn_train_test(train_col, target_col, df):\n",
    "    np.random.seed(1)\n",
    "    shuffled_index = np.random.permutation(df.index)\n",
    "    rand_df = df.reindex(shuffled_index)\n",
    "    \n",
    "    train_set = rand_df.iloc[0:int(len(df)/2)]\n",
    "    test_set = rand_df.iloc[int(len(df)/2):].copy()\n",
    "    # Updated k values\n",
    "    k_vals = [1,3,5,7,9]\n",
    "    k_rmse = {}\n",
    "    for k in k_vals:\n",
    "        knn = KNeighborsRegressor(n_neighbors=k)\n",
    "        knn.fit(train_set[[train_col]], train_set[target_col])\n",
    "        predictions = knn.predict(test_set[[train_col]])\n",
    "        mse = mean_squared_error(test_set[target_col], predictions)\n",
    "        rmse = mse**(1/2)\n",
    "        k_rmse[k] = rmse\n",
    "    return k_rmse\n",
    "\n",
    "k_rmse_results = {}\n",
    "    \n",
    "for col in train_cols:\n",
    "    rmses = knn_train_test(col,'price', normalized_cars)\n",
    "    k_rmse_results[col] = rmses\n",
    "\n",
    "# View k value and RMSE for three of the features\n",
    "{k: k_rmse_results[k]  for k in list(k_rmse_results)[:3]}"
   ]
  },
  {
   "cell_type": "markdown",
   "metadata": {},
   "source": [
    "Let's visualize the results on a scatter plot"
   ]
  },
  {
   "cell_type": "code",
   "execution_count": 9,
   "metadata": {},
   "outputs": [
    {
     "data": {
      "image/png": "[encoded data removed]",
      "text/plain": [
       "<Figure size 432x288 with 1 Axes>"
      ]
     },
     "metadata": {
      "needs_background": "light"
     },
     "output_type": "display_data"
    }
   ],
   "source": [
    "import matplotlib.pyplot as plt\n",
    "%matplotlib inline\n",
    "\n",
    "for k, v in k_rmse_results.items():\n",
    "    x = list(v.keys())\n",
    "    y = list(v.values())\n",
    "    plt.scatter(x, y, label=k)\n",
    "\n",
    "plt.title(\"RMSE For Different K-values\")\n",
    "plt.xlabel('k value')\n",
    "plt.ylabel('RMSE')\n",
    "plt.legend(loc=(1.04,0))\n",
    "plt.show()"
   ]
  },
  {
   "cell_type": "markdown",
   "metadata": {},
   "source": [
    "```engine-size``` clearly outperformed all the other features for every k value.\n",
    "\n",
    "Let's inspect the lowest RMSE value"
   ]
  },
  {
   "cell_type": "code",
   "execution_count": 10,
   "metadata": {},
   "outputs": [
    {
     "name": "stdout",
     "output_type": "stream",
     "text": [
      "feature: engine-size, k: 3, rmse: 2840.562805643501\n"
     ]
    }
   ],
   "source": [
    "# Search the value of the lowest RMSE\n",
    "k_value = 0\n",
    "best_rmse = 0\n",
    "feature = None\n",
    "\n",
    "for col, values in k_rmse_results.items():\n",
    "    k =  min(values, key=values.get)\n",
    "    if (values[k] < best_rmse) or best_rmse == 0:\n",
    "        best_rmse = values[k]\n",
    "        feature = col\n",
    "        k_value = k\n",
    "        \n",
    "        \n",
    "print('feature: {}, k: {}, rmse: {}'.format(feature, k_value, best_rmse))"
   ]
  },
  {
   "cell_type": "markdown",
   "metadata": {},
   "source": [
    "Let's have a look at the average RMSE for each feature across all k values"
   ]
  },
  {
   "cell_type": "code",
   "execution_count": 11,
   "metadata": {},
   "outputs": [
    {
     "data": {
      "text/plain": [
       "engine-size          3346.484586\n",
       "horsepower           4219.377860\n",
       "width                4618.910560\n",
       "curb-weight          4730.075815\n",
       "highway-mpg          5069.469256\n",
       "length               5176.394904\n",
       "city-mpg             5202.409003\n",
       "wheel-base           5252.392462\n",
       "compression-rate     7166.073599\n",
       "bore                 7222.472445\n",
       "normalized-losses    7624.407151\n",
       "stroke               8000.240467\n",
       "peak-rpm             8119.365233\n",
       "height               8163.346266\n",
       "dtype: float64"
      ]
     },
     "execution_count": 11,
     "metadata": {},
     "output_type": "execute_result"
    }
   ],
   "source": [
    "feature_avg_rmse = {}\n",
    "\n",
    "for feature, val in k_rmse_results.items():\n",
    "    feature_avg_rmse[feature] = np.mean(list(val.values()))\n",
    "    \n",
    "series_avg_rmses = pd.Series(feature_avg_rmse)\n",
    "sorted_avg_rmses = series_avg_rmses.sort_values()\n",
    "\n",
    "sorted_avg_rmses "
   ]
  },
  {
   "cell_type": "markdown",
   "metadata": {},
   "source": [
    "### Multivariate Model\n",
    "\n",
    "The best univariate model used the ```engine-size``` feature and a k value of 3, and achieved a RMSE of 2840.6.\n",
    "\n",
    "Let's now modify the ```knn_train_test()``` function to work with multiple features and use the default k value of 5 for now.\n",
    "\n",
    "We'll train and test models using the two, three, four and five best features from above."
   ]
  },
  {
   "cell_type": "code",
   "execution_count": 12,
   "metadata": {},
   "outputs": [
    {
     "name": "stdout",
     "output_type": "stream",
     "text": [
      "Best 2 features - RMSE: 2949.8817277180374\n",
      "Best 3 features - RMSE: 3580.7376651928435\n",
      "Best 4 features - RMSE: 3487.340917327035\n",
      "Best 5 features - RMSE: 3410.2170133901805\n"
     ]
    }
   ],
   "source": [
    "# Updated to accept a list of column names (features)\n",
    "def knn_train_test(train_cols, target_col, df):\n",
    "    np.random.seed(1)\n",
    "    shuffled_index = np.random.permutation(df.index)\n",
    "    rand_df = df.reindex(shuffled_index)\n",
    "    \n",
    "    train_set = rand_df.iloc[0:int(len(df)/2)]\n",
    "    test_set = rand_df.iloc[int(len(df)/2):].copy()\n",
    "    \n",
    "    knn = KNeighborsRegressor()\n",
    "    knn.fit(train_set[train_cols], train_set[target_col])\n",
    "    predictions = knn.predict(test_set[train_cols])\n",
    "    mse = mean_squared_error(test_set[target_col], predictions)\n",
    "    rmse = mse**(1/2)\n",
    "    return rmse\n",
    "\n",
    "feature_list = []\n",
    "\n",
    "for i in range(4):\n",
    "    cols = list(sorted_avg_rmses.iloc[0:i+2].index)\n",
    "    feature_list.append(cols)\n",
    "    rmse = knn_train_test(cols,'price', normalized_cars)\n",
    "    print(\"Best {} features - RMSE: {}\".format(len(cols), rmse))\n",
    "    "
   ]
  },
  {
   "cell_type": "markdown",
   "metadata": {},
   "source": [
    "Now let's use the best three models above and vary the k value from 1 to 25"
   ]
  },
  {
   "cell_type": "code",
   "execution_count": 13,
   "metadata": {},
   "outputs": [
    {
     "data": {
      "text/plain": [
       "{2: {1: 2783.6204237227344,\n",
       "  2: 2657.7963807419765,\n",
       "  3: 2792.586573031673,\n",
       "  4: 2891.5329686923255,\n",
       "  5: 2949.8817277180374,\n",
       "  6: 3096.402601694776,\n",
       "  7: 3164.681969020496,\n",
       "  8: 3413.228359192009,\n",
       "  9: 3748.6716603306486,\n",
       "  10: 4080.7125057341937,\n",
       "  11: 4215.6372280600335,\n",
       "  12: 4275.421524277872,\n",
       "  13: 4373.901683035496,\n",
       "  14: 4424.285137239815,\n",
       "  15: 4539.505493095937,\n",
       "  16: 4667.307671446768,\n",
       "  17: 4729.605305844226,\n",
       "  18: 4790.556632159094,\n",
       "  19: 4824.3866193292615,\n",
       "  20: 4840.850914693829,\n",
       "  21: 4837.429062000271,\n",
       "  22: 4831.16988267597,\n",
       "  23: 4861.679492959275,\n",
       "  24: 4903.346008862579,\n",
       "  25: 4955.892429427362},\n",
       " 4: {1: 2952.725686581471,\n",
       "  2: 3131.704952720018,\n",
       "  3: 3129.692821910155,\n",
       "  4: 3241.4320776448717,\n",
       "  5: 3487.340917327035,\n",
       "  6: 3637.0381471429987,\n",
       "  7: 3606.195077860286,\n",
       "  8: 3809.9307026308247,\n",
       "  9: 3875.274902378068,\n",
       "  10: 3997.1583055842293,\n",
       "  11: 4162.564050411074,\n",
       "  12: 4289.486490995821,\n",
       "  13: 4368.061602779942,\n",
       "  14: 4416.304772968801,\n",
       "  15: 4434.013914355171,\n",
       "  16: 4441.4634909198785,\n",
       "  17: 4512.996303789127,\n",
       "  18: 4523.575629742228,\n",
       "  19: 4534.834065236792,\n",
       "  20: 4620.211598150367,\n",
       "  21: 4688.356509517293,\n",
       "  22: 4731.46717779913,\n",
       "  23: 4763.535312989311,\n",
       "  24: 4751.601375872476,\n",
       "  25: 4757.099289594177},\n",
       " 5: {1: 2824.7061233282866,\n",
       "  2: 2915.6731645496975,\n",
       "  3: 3012.4204546509704,\n",
       "  4: 3202.8876051367483,\n",
       "  5: 3410.2170133901805,\n",
       "  6: 3618.4509432660384,\n",
       "  7: 3622.6290209234803,\n",
       "  8: 3848.635835654326,\n",
       "  9: 3977.8149139381726,\n",
       "  10: 3994.8132211260104,\n",
       "  11: 4159.843526607947,\n",
       "  12: 4294.3389473154875,\n",
       "  13: 4380.848359486949,\n",
       "  14: 4466.368754416089,\n",
       "  15: 4522.420711094978,\n",
       "  16: 4536.427578452413,\n",
       "  17: 4587.098443664006,\n",
       "  18: 4622.107837952761,\n",
       "  19: 4612.890107622797,\n",
       "  20: 4632.693976139521,\n",
       "  21: 4712.917548435062,\n",
       "  22: 4676.301064518744,\n",
       "  23: 4691.189310956096,\n",
       "  24: 4755.990767231825,\n",
       "  25: 4804.323266214411}}"
      ]
     },
     "execution_count": 13,
     "metadata": {},
     "output_type": "execute_result"
    }
   ],
   "source": [
    "def knn_train_test(train_cols, target_col, df):\n",
    "    np.random.seed(1)\n",
    "    shuffled_index = np.random.permutation(df.index)\n",
    "    rand_df = df.reindex(shuffled_index)\n",
    "    \n",
    "    train_set = rand_df.iloc[0:int(len(df)/2)]\n",
    "    test_set = rand_df.iloc[int(len(df)/2):].copy()\n",
    "    # k values, 1-25\n",
    "    k_vals = [k for k in range(1,26)]\n",
    "    k_rmse = {}\n",
    "    for k in k_vals:\n",
    "        knn = KNeighborsRegressor(n_neighbors=k)\n",
    "        knn.fit(train_set[train_cols], train_set[target_col])\n",
    "        predictions = knn.predict(test_set[train_cols])\n",
    "        mse = mean_squared_error(test_set[target_col], predictions)\n",
    "        rmse = mse**(1/2)\n",
    "        k_rmse[k] = rmse\n",
    "    return k_rmse\n",
    "\n",
    "k_rmse_results = {}\n",
    "\n",
    "# Index's of feature_list\n",
    "best_3models = [0, 2, 3 ]\n",
    "    \n",
    "for model in best_3models:\n",
    "    rmses = knn_train_test(feature_list[model],'price', normalized_cars)\n",
    "    k_rmse_results[model + 2] = rmses\n",
    "    \n",
    "# Show results\n",
    "k_rmse_results"
   ]
  },
  {
   "cell_type": "markdown",
   "metadata": {},
   "source": [
    "Let's visualize the results"
   ]
  },
  {
   "cell_type": "code",
   "execution_count": 14,
   "metadata": {},
   "outputs": [
    {
     "data": {
      "image/png": "[encoded data removed]",
      "text/plain": [
       "<Figure size 432x288 with 1 Axes>"
      ]
     },
     "metadata": {
      "needs_background": "light"
     },
     "output_type": "display_data"
    }
   ],
   "source": [
    "for k, v in k_rmse_results.items():\n",
    "    x = list(v.keys())\n",
    "    y = list(v.values())\n",
    "    plt.plot(x, y, label=str((k+2)) + \" \" + 'features')\n",
    "    \n",
    "plt.xlabel('k value')\n",
    "plt.ylabel('RMSE')\n",
    "plt.legend(loc=(1.04,0.78))\n",
    "plt.show()"
   ]
  },
  {
   "cell_type": "code",
   "execution_count": 15,
   "metadata": {},
   "outputs": [
    {
     "name": "stdout",
     "output_type": "stream",
     "text": [
      "model: 4-features, k: 2, rmse: 2657.7963807419765\n"
     ]
    }
   ],
   "source": [
    "# Search the model with the lowest RMSE\n",
    "k_value = 0\n",
    "best_rmse = 0\n",
    "best_model = None\n",
    "\n",
    "for model, values in k_rmse_results.items():\n",
    "    k =  min(values, key=values.get)\n",
    "    if (values[k] < best_rmse) or best_rmse == 0:\n",
    "        best_rmse = values[k]\n",
    "        best_model = model\n",
    "        k_value = k\n",
    "        \n",
    "        \n",
    "print('model: {}-features, k: {}, rmse: {}'.format(best_model+2, k_value, best_rmse))"
   ]
  },
  {
   "cell_type": "markdown",
   "metadata": {},
   "source": [
    "### K-Fold Cross Validation\n",
    "\n",
    "So far we've been using the ```knn_train_test()``` function to train the model on half of the data and test the model on the second half, this makes the model biased towards the training set.\n",
    "\n",
    "Next we'll use a more robust technique **\"K_Fold Cross Validation\"** where we'll split the data into k partitions, rotating through the subsets, while using k-1 partitions for the training set and the remaining partition for the test set, we'll do this until all the subsets have been used as the test set.\n",
    "\n",
    "We'll split the data into ten partitions, at the same time we'll train and test each model on 1 to 25 different k values, return the avg mean of the RMSE's and the standard devation.\n",
    "\n",
    "We'll evaluate models with the best (2,3,4 and 5) features from above."
   ]
  },
  {
   "cell_type": "code",
   "execution_count": 16,
   "metadata": {},
   "outputs": [
    {
     "data": {
      "text/plain": [
       "[['engine-size', 'horsepower'],\n",
       " ['engine-size', 'horsepower', 'width'],\n",
       " ['engine-size', 'horsepower', 'width', 'curb-weight'],\n",
       " ['engine-size', 'horsepower', 'width', 'curb-weight', 'highway-mpg']]"
      ]
     },
     "execution_count": 16,
     "metadata": {},
     "output_type": "execute_result"
    }
   ],
   "source": [
    "# Reminder of what the features are.\n",
    "feature_list"
   ]
  },
  {
   "cell_type": "code",
   "execution_count": 17,
   "metadata": {},
   "outputs": [],
   "source": [
    "# Import libraries\n",
    "from sklearn.model_selection import cross_val_score, KFold\n",
    "\n",
    "def cross_validate(cols, target, df):\n",
    "    k_values = [k for k in range(1,26)]\n",
    "    rmses_std = {}\n",
    "    for k in k_values:\n",
    "        knn = KNeighborsRegressor(n_neighbors=k, algorithm='brute')\n",
    "        kfold = KFold(n_splits = 10, shuffle=True, random_state=1)\n",
    "        mse = cross_val_score(estimator = knn, X=df[cols], y=df[target], scoring=\"neg_mean_squared_error\")\n",
    "        rmses_std[k] = [np.mean(np.sqrt(np.abs(mse))), np.std(np.sqrt(np.abs(mse)))]\n",
    "    return rmses_std\n",
    "\n",
    "# Cross validate models and store results.\n",
    "k_mean_rmses = {}\n",
    "\n",
    "for models in feature_list:\n",
    "    k_mean_rmses[len(models)] = cross_validate(models, 'price', normalized_cars)"
   ]
  },
  {
   "cell_type": "code",
   "execution_count": 18,
   "metadata": {},
   "outputs": [
    {
     "data": {
      "text/plain": [
       "{2: {1: [4054.3752998577393, 641.28442852553],\n",
       "  2: [3633.9900942986233, 239.99014911788342],\n",
       "  3: [3542.377060710639, 403.4142904645972],\n",
       "  4: [3429.8695620126005, 545.2332303341288],\n",
       "  5: [3673.4736628986793, 575.3857312756506],\n",
       "  6: [3880.893015736104, 691.3780570462612],\n",
       "  7: [3923.514094644287, 791.0534429845613],\n",
       "  8: [3949.848565395668, 916.5952509707985],\n",
       "  9: [4084.4628064649246, 1116.5538544553788],\n",
       "  10: [4197.4647619522675, 1293.520421626236],\n",
       "  11: [4263.945698929956, 1461.5741949227508],\n",
       "  12: [4345.145057787431, 1565.557950481374],\n",
       "  13: [4490.99482680984, 1661.049351435575],\n",
       "  14: [4485.565504865057, 1686.529814305486],\n",
       "  15: [4440.05559159143, 1714.152137502057],\n",
       "  16: [4411.832860091445, 1719.4364537945103],\n",
       "  17: [4426.512391957291, 1734.4176979157105],\n",
       "  18: [4460.287748806414, 1792.795121261517],\n",
       "  19: [4518.607625911034, 1817.3023822162784],\n",
       "  20: [4597.380214023414, 1849.300651017786],\n",
       "  21: [4682.397141239942, 1837.0279062733227],\n",
       "  22: [4746.7960397393745, 1807.3064456349462],\n",
       "  23: [4798.629174793066, 1805.168563850181],\n",
       "  24: [4829.492459287605, 1780.3112607918363],\n",
       "  25: [4831.271651923498, 1775.7910883186144]},\n",
       " 3: {1: [4430.824140919203, 1401.4864777255625],\n",
       "  2: [4194.420379158049, 1067.5742554461701],\n",
       "  3: [3853.9923615435882, 1278.156527022486],\n",
       "  4: [3865.1991019218563, 1311.0568163522491],\n",
       "  5: [3981.6006101475405, 1387.6643229523072],\n",
       "  6: [4084.7344547464863, 1496.1277757469104],\n",
       "  7: [4184.47326581478, 1566.4862077473508],\n",
       "  8: [4206.19047838872, 1625.5151712460565],\n",
       "  9: [4288.837839346948, 1702.748104865455],\n",
       "  10: [4341.6459447954085, 1721.2154352567177],\n",
       "  11: [4364.481480526386, 1782.057231017949],\n",
       "  12: [4432.794927960364, 1863.0307430229586],\n",
       "  13: [4443.510565732206, 1964.4567932743903],\n",
       "  14: [4455.628969976417, 1981.8937949185329],\n",
       "  15: [4532.900025498006, 1956.0242483015654],\n",
       "  16: [4541.145270775555, 2011.0350059096097],\n",
       "  17: [4552.160334068192, 2010.5923282338524],\n",
       "  18: [4532.990180291847, 1987.916678350613],\n",
       "  19: [4503.906171168891, 1974.3436164293182],\n",
       "  20: [4463.953954826609, 1940.107662466688],\n",
       "  21: [4485.199739419107, 1939.8357378907956],\n",
       "  22: [4512.591985686861, 1959.4330082282768],\n",
       "  23: [4537.293367929211, 1986.9908558837315],\n",
       "  24: [4554.41911930579, 2022.0665250541565],\n",
       "  25: [4574.6028605164765, 2041.9569468490538]},\n",
       " 4: {1: [3947.134303510921, 1076.7700526421017],\n",
       "  2: [4102.412910991832, 781.9328965513765],\n",
       "  3: [3943.1984097426066, 771.6500369116214],\n",
       "  4: [4153.707771520366, 1002.3290400120899],\n",
       "  5: [4199.099491231332, 1250.900776045607],\n",
       "  6: [4324.574320219644, 1318.5896290976523],\n",
       "  7: [4306.687122016458, 1412.4980147415936],\n",
       "  8: [4441.820708305609, 1502.9252899676678],\n",
       "  9: [4516.692721458907, 1629.7609973510919],\n",
       "  10: [4564.772808574557, 1686.9730852356038],\n",
       "  11: [4585.155971535808, 1729.30553459759],\n",
       "  12: [4632.31328317517, 1770.8421153001946],\n",
       "  13: [4635.339689249247, 1855.9620295612938],\n",
       "  14: [4646.81551511956, 1936.2030567254778],\n",
       "  15: [4653.176977487912, 1966.863179319662],\n",
       "  16: [4653.126842462285, 1992.2373276866797],\n",
       "  17: [4648.290775763252, 2044.0013225335822],\n",
       "  18: [4639.0596631146145, 2065.0438921241694],\n",
       "  19: [4630.49736549191, 2071.5629212389294],\n",
       "  20: [4614.9334967572595, 2072.258842564357],\n",
       "  21: [4583.130591416955, 2097.2903224705974],\n",
       "  22: [4564.1916887877, 2121.5433611587914],\n",
       "  23: [4573.343233506036, 2126.355030219768],\n",
       "  24: [4554.72807040734, 2146.518008310984],\n",
       "  25: [4579.665294751806, 2153.6036923103775]},\n",
       " 5: {1: [4022.8759814881037, 869.8982350099631],\n",
       "  2: [4079.8436347331453, 742.1401377258723],\n",
       "  3: [3934.411243131564, 793.4456069790192],\n",
       "  4: [4019.6892874309488, 1032.8211050237046],\n",
       "  5: [4155.054965554523, 1166.3093180109847],\n",
       "  6: [4232.033040596179, 1329.4626877856285],\n",
       "  7: [4307.639971630676, 1455.6437748500293],\n",
       "  8: [4404.716965177812, 1534.8739892918884],\n",
       "  9: [4478.987956786433, 1674.2131087063183],\n",
       "  10: [4534.853929214533, 1731.7622336650272],\n",
       "  11: [4553.842378011124, 1807.3030736909454],\n",
       "  12: [4551.659100784468, 1816.9694459457294],\n",
       "  13: [4585.3073987987345, 1873.3443746888968],\n",
       "  14: [4585.881440218231, 1939.9310065378793],\n",
       "  15: [4629.173213845437, 1954.0848656804758],\n",
       "  16: [4643.933371161852, 2015.079680714045],\n",
       "  17: [4662.47335482792, 2069.171832515088],\n",
       "  18: [4613.258102065016, 2083.3953510941506],\n",
       "  19: [4619.047690076327, 2129.972139198991],\n",
       "  20: [4594.322422551306, 2113.0939123703365],\n",
       "  21: [4576.186234385798, 2095.93312302034],\n",
       "  22: [4551.466913926724, 2106.9034636871706],\n",
       "  23: [4557.698777610907, 2121.608937655532],\n",
       "  24: [4570.035594431268, 2111.192886064361],\n",
       "  25: [4594.74913745905, 2118.0948469411924]}}"
      ]
     },
     "execution_count": 18,
     "metadata": {},
     "output_type": "execute_result"
    }
   ],
   "source": [
    "# View results\n",
    "k_mean_rmses"
   ]
  },
  {
   "cell_type": "markdown",
   "metadata": {},
   "source": [
    "Let's plot the average RMSE (proxy for bias) and standard devation (proxy for variance) for each model using 1-25 k-values."
   ]
  },
  {
   "cell_type": "code",
   "execution_count": 19,
   "metadata": {},
   "outputs": [
    {
     "data": {
      "image/png": "[encoded data removed]",
      "text/plain": [
       "<Figure size 432x288 with 1 Axes>"
      ]
     },
     "metadata": {
      "needs_background": "light"
     },
     "output_type": "display_data"
    },
    {
     "data": {
      "image/png": "[encoded data removed]",
      "text/plain": [
       "<Figure size 432x288 with 1 Axes>"
      ]
     },
     "metadata": {
      "needs_background": "light"
     },
     "output_type": "display_data"
    },
    {
     "data": {
      "image/png": "[encoded data removed]",
      "text/plain": [
       "<Figure size 432x288 with 1 Axes>"
      ]
     },
     "metadata": {
      "needs_background": "light"
     },
     "output_type": "display_data"
    },
    {
     "data": {
      "image/png": "[encoded data removed]",
      "text/plain": [
       "<Figure size 432x288 with 1 Axes>"
      ]
     },
     "metadata": {
      "needs_background": "light"
     },
     "output_type": "display_data"
    }
   ],
   "source": [
    "models = [2,3,4,5]\n",
    "for model in models:\n",
    "    x = [k for k in range(1,26)]\n",
    "    y1 = [row[0] for row in list(k_mean_rmses[model].values())]\n",
    "    y2 = [row[1] for row in list(k_mean_rmses[model].values())]\n",
    "    plt.plot(x, y1, label='Bias')\n",
    "    plt.plot(x, y2, label='Variance')\n",
    "    plt.title(\"model with {} features\".format(model))\n",
    "    plt.xlabel('k-values')\n",
    "    plt.ylabel(\"RMSE\")\n",
    "    plt.legend(loc=(1.02,0.85))\n",
    "    plt.show()"
   ]
  },
  {
   "cell_type": "markdown",
   "metadata": {},
   "source": [
    "Next, let's print the best optimized models, with low bias and low variance."
   ]
  },
  {
   "cell_type": "code",
   "execution_count": 20,
   "metadata": {
    "scrolled": true
   },
   "outputs": [
    {
     "name": "stdout",
     "output_type": "stream",
     "text": [
      "Mode: 2 features, K-value: 4, Avg RMSE: 3429.87, Std 545.23\n",
      "Mode: 3 features, K-value: 3, Avg RMSE: 3853.99, Std 1278.16\n",
      "Mode: 4 features, K-value: 3, Avg RMSE: 3943.2, Std 771.65\n",
      "Mode: 5 features, K-value: 3, Avg RMSE: 3934.41, Std 793.45\n"
     ]
    }
   ],
   "source": [
    "rmses = {}\n",
    "\n",
    "for key, value in k_mean_rmses.items():\n",
    "    rmse = None\n",
    "    std = None\n",
    "    k_value = None\n",
    "    for k, v in value.items():\n",
    "        if (rmse is None or v[0] < rmse) or (std is None or v[1] < std):\n",
    "            rmse = v[0]\n",
    "            std = v[1]\n",
    "            k_value = k\n",
    "    rmses[key] = [k_value, rmse, std]\n",
    "    \n",
    "for k, v in rmses.items():\n",
    "    print(\"Mode: {} features, K-value: {}, Avg RMSE: {}, Std {}\".format(k, v[0], round(v[1],2), round(v[2], 2)))"
   ]
  },
  {
   "cell_type": "markdown",
   "metadata": {},
   "source": [
    "The best performing model was the model with 2 features, k-value of 4, RMSE of 3429.87 and a standard devation of 545.23.\n",
    "\n",
    "So on average we can expect our predictions to be of by \\$3429.87 in either direction. The average price of cars in our dataset is 13207.12 dollars. To make better predictions, we might need to do better feature selection, better imputation of missing values, collect more data, or use a different estimator.\n",
    "\n",
    "Below we'll plot the distribution of the 'price' variable, with the mean and standard devation of the distribution and the mean +- the RMSE for our best performing model"
   ]
  },
  {
   "cell_type": "code",
   "execution_count": 21,
   "metadata": {},
   "outputs": [
    {
     "data": {
      "image/png": "[encoded data removed]",
      "text/plain": [
       "<Figure size 720x576 with 1 Axes>"
      ]
     },
     "metadata": {
      "needs_background": "light"
     },
     "output_type": "display_data"
    }
   ],
   "source": [
    "# Plot price distribution\n",
    "import seaborn as sns\n",
    "\n",
    "mean = normalized_cars['price'].mean()\n",
    "std = normalized_cars['price'].std()\n",
    "plt.figure(figsize=(10,8))\n",
    "sns.kdeplot(normalized_cars['price'])\n",
    "plt.title('Price Distribution')\n",
    "plt.axvline(mean, color='black', label='mean')\n",
    "plt.axvline(mean + 3429.87, color='y', label='mean +- RMSE' )\n",
    "plt.axvline(mean - 3429.87, color='y' )\n",
    "plt.axvline(mean+std, color='g', label='std')\n",
    "plt.axvline(mean-std, color='g')\n",
    "plt.xlabel('Price $')\n",
    "plt.ylabel('Frequency')\n",
    "plt.legend()\n",
    "plt.show()"
   ]
  }
 ],
 "metadata": {
  "kernelspec": {
   "display_name": "Python 3",
   "language": "python",
   "name": "python3"
  },
  "language_info": {
   "codemirror_mode": {
    "name": "ipython",
    "version": 3
   },
   "file_extension": ".py",
   "mimetype": "text/x-python",
   "name": "python",
   "nbconvert_exporter": "python",
   "pygments_lexer": "ipython3",
   "version": "3.8.3"
  }
 },
 "nbformat": 4,
 "nbformat_minor": 4
}
